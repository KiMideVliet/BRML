{
 "cells": [
  {
   "cell_type": "markdown",
   "id": "sdD9Z5CW1Vpo",
   "metadata": {
    "id": "sdD9Z5CW1Vpo"
   },
   "source": [
    "# Bayesian Reasoning and Machine Learning"
   ]
  },
  {
   "cell_type": "markdown",
   "id": "AvV5epV21lc6",
   "metadata": {
    "id": "AvV5epV21lc6"
   },
   "source": [
    "### Michel Mariën, Assignment 1"
   ]
  },
  {
   "cell_type": "markdown",
   "id": "FT-c0NmW2z0x",
   "metadata": {
    "id": "FT-c0NmW2z0x"
   },
   "source": [
    "## Notebook setup"
   ]
  },
  {
   "cell_type": "markdown",
   "id": "uisHuMK_1418",
   "metadata": {
    "id": "uisHuMK_1418"
   },
   "source": [
    "#### Installing required packages"
   ]
  },
  {
   "cell_type": "code",
   "execution_count": 1,
   "id": "YzNcpePGYfmi",
   "metadata": {
    "colab": {
     "base_uri": "https://localhost:8080/"
    },
    "id": "YzNcpePGYfmi",
    "outputId": "9af1109b-42e7-4241-89c1-82e45271e8c2"
   },
   "outputs": [
    {
     "name": "stdout",
     "output_type": "stream",
     "text": [
      "Defaulting to user installation because normal site-packages is not writeable\n",
      "Requirement already satisfied: pyagrum in c:\\users\\michel.marien_icarew\\appdata\\roaming\\python\\python311\\site-packages (1.15.1)\n",
      "Requirement already satisfied: numpy in c:\\users\\michel.marien_icarew\\appdata\\roaming\\python\\python311\\site-packages (from pyagrum) (2.2.5)\n",
      "Requirement already satisfied: matplotlib in c:\\users\\michel.marien_icarew\\appdata\\roaming\\python\\python311\\site-packages (from pyagrum) (3.10.3)\n",
      "Requirement already satisfied: pydot in c:\\users\\michel.marien_icarew\\appdata\\roaming\\python\\python311\\site-packages (from pyagrum) (3.0.2)\n",
      "Requirement already satisfied: contourpy>=1.0.1 in c:\\users\\michel.marien_icarew\\appdata\\roaming\\python\\python311\\site-packages (from matplotlib->pyagrum) (1.3.2)\n",
      "Requirement already satisfied: cycler>=0.10 in c:\\programdata\\anaconda3\\lib\\site-packages (from matplotlib->pyagrum) (0.11.0)\n",
      "Requirement already satisfied: fonttools>=4.22.0 in c:\\programdata\\anaconda3\\lib\\site-packages (from matplotlib->pyagrum) (4.25.0)\n",
      "Requirement already satisfied: kiwisolver>=1.3.1 in c:\\programdata\\anaconda3\\lib\\site-packages (from matplotlib->pyagrum) (1.4.4)\n",
      "Requirement already satisfied: packaging>=20.0 in c:\\programdata\\anaconda3\\lib\\site-packages (from matplotlib->pyagrum) (23.1)\n",
      "Requirement already satisfied: pillow>=8 in c:\\users\\michel.marien_icarew\\appdata\\roaming\\python\\python311\\site-packages (from matplotlib->pyagrum) (10.4.0)\n",
      "Requirement already satisfied: pyparsing>=2.3.1 in c:\\programdata\\anaconda3\\lib\\site-packages (from matplotlib->pyagrum) (3.0.9)\n",
      "Requirement already satisfied: python-dateutil>=2.7 in c:\\programdata\\anaconda3\\lib\\site-packages (from matplotlib->pyagrum) (2.8.2)\n",
      "Requirement already satisfied: six>=1.5 in c:\\programdata\\anaconda3\\lib\\site-packages (from python-dateutil>=2.7->matplotlib->pyagrum) (1.16.0)\n"
     ]
    }
   ],
   "source": [
    "!pip install pyagrum\n",
    "#!pip install graphviz\n",
    "#!pip install pydot"
   ]
  },
  {
   "cell_type": "markdown",
   "id": "dOyG7NnG2G3X",
   "metadata": {
    "id": "dOyG7NnG2G3X"
   },
   "source": [
    "#### Importing required packages"
   ]
  },
  {
   "cell_type": "code",
   "execution_count": 2,
   "id": "SMe_FcBzcUDU",
   "metadata": {
    "id": "SMe_FcBzcUDU"
   },
   "outputs": [
    {
     "name": "stderr",
     "output_type": "stream",
     "text": [
      "\n",
      "A module that was compiled using NumPy 1.x cannot be run in\n",
      "NumPy 2.2.5 as it may crash. To support both 1.x and 2.x\n",
      "versions of NumPy, modules must be compiled with NumPy 2.0.\n",
      "Some module may need to rebuild instead e.g. with 'pybind11>=2.12'.\n",
      "\n",
      "If you are a user of the module, the easiest solution will be to\n",
      "downgrade to 'numpy<2' or try to upgrade the affected module.\n",
      "We expect that some modules will need time to support NumPy 2.\n",
      "\n",
      "Traceback (most recent call last):  File \"<frozen runpy>\", line 198, in _run_module_as_main\n",
      "  File \"<frozen runpy>\", line 88, in _run_code\n",
      "  File \"C:\\ProgramData\\anaconda3\\Lib\\site-packages\\ipykernel_launcher.py\", line 17, in <module>\n",
      "    app.launch_new_instance()\n",
      "  File \"C:\\ProgramData\\anaconda3\\Lib\\site-packages\\traitlets\\config\\application.py\", line 992, in launch_instance\n",
      "    app.start()\n",
      "  File \"C:\\ProgramData\\anaconda3\\Lib\\site-packages\\ipykernel\\kernelapp.py\", line 701, in start\n",
      "    self.io_loop.start()\n",
      "  File \"C:\\ProgramData\\anaconda3\\Lib\\site-packages\\tornado\\platform\\asyncio.py\", line 195, in start\n",
      "    self.asyncio_loop.run_forever()\n",
      "  File \"C:\\ProgramData\\anaconda3\\Lib\\asyncio\\windows_events.py\", line 321, in run_forever\n",
      "    super().run_forever()\n",
      "  File \"C:\\ProgramData\\anaconda3\\Lib\\asyncio\\base_events.py\", line 607, in run_forever\n",
      "    self._run_once()\n",
      "  File \"C:\\ProgramData\\anaconda3\\Lib\\asyncio\\base_events.py\", line 1922, in _run_once\n",
      "    handle._run()\n",
      "  File \"C:\\ProgramData\\anaconda3\\Lib\\asyncio\\events.py\", line 80, in _run\n",
      "    self._context.run(self._callback, *self._args)\n",
      "  File \"C:\\ProgramData\\anaconda3\\Lib\\site-packages\\ipykernel\\kernelbase.py\", line 534, in dispatch_queue\n",
      "    await self.process_one()\n",
      "  File \"C:\\ProgramData\\anaconda3\\Lib\\site-packages\\ipykernel\\kernelbase.py\", line 523, in process_one\n",
      "    await dispatch(*args)\n",
      "  File \"C:\\ProgramData\\anaconda3\\Lib\\site-packages\\ipykernel\\kernelbase.py\", line 429, in dispatch_shell\n",
      "    await result\n",
      "  File \"C:\\ProgramData\\anaconda3\\Lib\\site-packages\\ipykernel\\kernelbase.py\", line 767, in execute_request\n",
      "    reply_content = await reply_content\n",
      "  File \"C:\\ProgramData\\anaconda3\\Lib\\site-packages\\ipykernel\\ipkernel.py\", line 429, in do_execute\n",
      "    res = shell.run_cell(\n",
      "  File \"C:\\ProgramData\\anaconda3\\Lib\\site-packages\\ipykernel\\zmqshell.py\", line 549, in run_cell\n",
      "    return super().run_cell(*args, **kwargs)\n",
      "  File \"C:\\ProgramData\\anaconda3\\Lib\\site-packages\\IPython\\core\\interactiveshell.py\", line 3051, in run_cell\n",
      "    result = self._run_cell(\n",
      "  File \"C:\\ProgramData\\anaconda3\\Lib\\site-packages\\IPython\\core\\interactiveshell.py\", line 3106, in _run_cell\n",
      "    result = runner(coro)\n",
      "  File \"C:\\ProgramData\\anaconda3\\Lib\\site-packages\\IPython\\core\\async_helpers.py\", line 129, in _pseudo_sync_runner\n",
      "    coro.send(None)\n",
      "  File \"C:\\ProgramData\\anaconda3\\Lib\\site-packages\\IPython\\core\\interactiveshell.py\", line 3311, in run_cell_async\n",
      "    has_raised = await self.run_ast_nodes(code_ast.body, cell_name,\n",
      "  File \"C:\\ProgramData\\anaconda3\\Lib\\site-packages\\IPython\\core\\interactiveshell.py\", line 3493, in run_ast_nodes\n",
      "    if await self.run_code(code, result, async_=asy):\n",
      "  File \"C:\\ProgramData\\anaconda3\\Lib\\site-packages\\IPython\\core\\interactiveshell.py\", line 3553, in run_code\n",
      "    exec(code_obj, self.user_global_ns, self.user_ns)\n",
      "  File \"C:\\Users\\michel.marien_icarew\\AppData\\Local\\Temp\\ipykernel_24408\\2326351318.py\", line 2, in <module>\n",
      "    import pandas as pd\n",
      "  File \"C:\\Users\\michel.marien_icarew\\AppData\\Roaming\\Python\\Python311\\site-packages\\pandas\\__init__.py\", line 39, in <module>\n",
      "    from pandas.compat import (\n",
      "  File \"C:\\Users\\michel.marien_icarew\\AppData\\Roaming\\Python\\Python311\\site-packages\\pandas\\compat\\__init__.py\", line 27, in <module>\n",
      "    from pandas.compat.pyarrow import (\n",
      "  File \"C:\\Users\\michel.marien_icarew\\AppData\\Roaming\\Python\\Python311\\site-packages\\pandas\\compat\\pyarrow.py\", line 8, in <module>\n",
      "    import pyarrow as pa\n",
      "  File \"C:\\ProgramData\\anaconda3\\Lib\\site-packages\\pyarrow\\__init__.py\", line 65, in <module>\n",
      "    import pyarrow.lib as _lib\n"
     ]
    },
    {
     "ename": "AttributeError",
     "evalue": "_ARRAY_API not found",
     "output_type": "error",
     "traceback": [
      "\u001b[1;31m---------------------------------------------------------------------------\u001b[0m",
      "\u001b[1;31mAttributeError\u001b[0m                            Traceback (most recent call last)",
      "\u001b[1;31mAttributeError\u001b[0m: _ARRAY_API not found"
     ]
    },
    {
     "name": "stderr",
     "output_type": "stream",
     "text": [
      "\n",
      "A module that was compiled using NumPy 1.x cannot be run in\n",
      "NumPy 2.2.5 as it may crash. To support both 1.x and 2.x\n",
      "versions of NumPy, modules must be compiled with NumPy 2.0.\n",
      "Some module may need to rebuild instead e.g. with 'pybind11>=2.12'.\n",
      "\n",
      "If you are a user of the module, the easiest solution will be to\n",
      "downgrade to 'numpy<2' or try to upgrade the affected module.\n",
      "We expect that some modules will need time to support NumPy 2.\n",
      "\n",
      "Traceback (most recent call last):  File \"<frozen runpy>\", line 198, in _run_module_as_main\n",
      "  File \"<frozen runpy>\", line 88, in _run_code\n",
      "  File \"C:\\ProgramData\\anaconda3\\Lib\\site-packages\\ipykernel_launcher.py\", line 17, in <module>\n",
      "    app.launch_new_instance()\n",
      "  File \"C:\\ProgramData\\anaconda3\\Lib\\site-packages\\traitlets\\config\\application.py\", line 992, in launch_instance\n",
      "    app.start()\n",
      "  File \"C:\\ProgramData\\anaconda3\\Lib\\site-packages\\ipykernel\\kernelapp.py\", line 701, in start\n",
      "    self.io_loop.start()\n",
      "  File \"C:\\ProgramData\\anaconda3\\Lib\\site-packages\\tornado\\platform\\asyncio.py\", line 195, in start\n",
      "    self.asyncio_loop.run_forever()\n",
      "  File \"C:\\ProgramData\\anaconda3\\Lib\\asyncio\\windows_events.py\", line 321, in run_forever\n",
      "    super().run_forever()\n",
      "  File \"C:\\ProgramData\\anaconda3\\Lib\\asyncio\\base_events.py\", line 607, in run_forever\n",
      "    self._run_once()\n",
      "  File \"C:\\ProgramData\\anaconda3\\Lib\\asyncio\\base_events.py\", line 1922, in _run_once\n",
      "    handle._run()\n",
      "  File \"C:\\ProgramData\\anaconda3\\Lib\\asyncio\\events.py\", line 80, in _run\n",
      "    self._context.run(self._callback, *self._args)\n",
      "  File \"C:\\ProgramData\\anaconda3\\Lib\\site-packages\\ipykernel\\kernelbase.py\", line 534, in dispatch_queue\n",
      "    await self.process_one()\n",
      "  File \"C:\\ProgramData\\anaconda3\\Lib\\site-packages\\ipykernel\\kernelbase.py\", line 523, in process_one\n",
      "    await dispatch(*args)\n",
      "  File \"C:\\ProgramData\\anaconda3\\Lib\\site-packages\\ipykernel\\kernelbase.py\", line 429, in dispatch_shell\n",
      "    await result\n",
      "  File \"C:\\ProgramData\\anaconda3\\Lib\\site-packages\\ipykernel\\kernelbase.py\", line 767, in execute_request\n",
      "    reply_content = await reply_content\n",
      "  File \"C:\\ProgramData\\anaconda3\\Lib\\site-packages\\ipykernel\\ipkernel.py\", line 429, in do_execute\n",
      "    res = shell.run_cell(\n",
      "  File \"C:\\ProgramData\\anaconda3\\Lib\\site-packages\\ipykernel\\zmqshell.py\", line 549, in run_cell\n",
      "    return super().run_cell(*args, **kwargs)\n",
      "  File \"C:\\ProgramData\\anaconda3\\Lib\\site-packages\\IPython\\core\\interactiveshell.py\", line 3051, in run_cell\n",
      "    result = self._run_cell(\n",
      "  File \"C:\\ProgramData\\anaconda3\\Lib\\site-packages\\IPython\\core\\interactiveshell.py\", line 3106, in _run_cell\n",
      "    result = runner(coro)\n",
      "  File \"C:\\ProgramData\\anaconda3\\Lib\\site-packages\\IPython\\core\\async_helpers.py\", line 129, in _pseudo_sync_runner\n",
      "    coro.send(None)\n",
      "  File \"C:\\ProgramData\\anaconda3\\Lib\\site-packages\\IPython\\core\\interactiveshell.py\", line 3311, in run_cell_async\n",
      "    has_raised = await self.run_ast_nodes(code_ast.body, cell_name,\n",
      "  File \"C:\\ProgramData\\anaconda3\\Lib\\site-packages\\IPython\\core\\interactiveshell.py\", line 3493, in run_ast_nodes\n",
      "    if await self.run_code(code, result, async_=asy):\n",
      "  File \"C:\\ProgramData\\anaconda3\\Lib\\site-packages\\IPython\\core\\interactiveshell.py\", line 3553, in run_code\n",
      "    exec(code_obj, self.user_global_ns, self.user_ns)\n",
      "  File \"C:\\Users\\michel.marien_icarew\\AppData\\Local\\Temp\\ipykernel_24408\\2326351318.py\", line 2, in <module>\n",
      "    import pandas as pd\n",
      "  File \"C:\\Users\\michel.marien_icarew\\AppData\\Roaming\\Python\\Python311\\site-packages\\pandas\\__init__.py\", line 62, in <module>\n",
      "    from pandas.core.api import (\n",
      "  File \"C:\\Users\\michel.marien_icarew\\AppData\\Roaming\\Python\\Python311\\site-packages\\pandas\\core\\api.py\", line 9, in <module>\n",
      "    from pandas.core.dtypes.dtypes import (\n",
      "  File \"C:\\Users\\michel.marien_icarew\\AppData\\Roaming\\Python\\Python311\\site-packages\\pandas\\core\\dtypes\\dtypes.py\", line 24, in <module>\n",
      "    from pandas._libs import (\n",
      "  File \"C:\\ProgramData\\anaconda3\\Lib\\site-packages\\pyarrow\\__init__.py\", line 65, in <module>\n",
      "    import pyarrow.lib as _lib\n"
     ]
    },
    {
     "ename": "AttributeError",
     "evalue": "_ARRAY_API not found",
     "output_type": "error",
     "traceback": [
      "\u001b[1;31m---------------------------------------------------------------------------\u001b[0m",
      "\u001b[1;31mAttributeError\u001b[0m                            Traceback (most recent call last)",
      "\u001b[1;31mAttributeError\u001b[0m: _ARRAY_API not found"
     ]
    },
    {
     "name": "stderr",
     "output_type": "stream",
     "text": [
      "\n",
      "A module that was compiled using NumPy 1.x cannot be run in\n",
      "NumPy 2.2.5 as it may crash. To support both 1.x and 2.x\n",
      "versions of NumPy, modules must be compiled with NumPy 2.0.\n",
      "Some module may need to rebuild instead e.g. with 'pybind11>=2.12'.\n",
      "\n",
      "If you are a user of the module, the easiest solution will be to\n",
      "downgrade to 'numpy<2' or try to upgrade the affected module.\n",
      "We expect that some modules will need time to support NumPy 2.\n",
      "\n",
      "Traceback (most recent call last):  File \"<frozen runpy>\", line 198, in _run_module_as_main\n",
      "  File \"<frozen runpy>\", line 88, in _run_code\n",
      "  File \"C:\\ProgramData\\anaconda3\\Lib\\site-packages\\ipykernel_launcher.py\", line 17, in <module>\n",
      "    app.launch_new_instance()\n",
      "  File \"C:\\ProgramData\\anaconda3\\Lib\\site-packages\\traitlets\\config\\application.py\", line 992, in launch_instance\n",
      "    app.start()\n",
      "  File \"C:\\ProgramData\\anaconda3\\Lib\\site-packages\\ipykernel\\kernelapp.py\", line 701, in start\n",
      "    self.io_loop.start()\n",
      "  File \"C:\\ProgramData\\anaconda3\\Lib\\site-packages\\tornado\\platform\\asyncio.py\", line 195, in start\n",
      "    self.asyncio_loop.run_forever()\n",
      "  File \"C:\\ProgramData\\anaconda3\\Lib\\asyncio\\windows_events.py\", line 321, in run_forever\n",
      "    super().run_forever()\n",
      "  File \"C:\\ProgramData\\anaconda3\\Lib\\asyncio\\base_events.py\", line 607, in run_forever\n",
      "    self._run_once()\n",
      "  File \"C:\\ProgramData\\anaconda3\\Lib\\asyncio\\base_events.py\", line 1922, in _run_once\n",
      "    handle._run()\n",
      "  File \"C:\\ProgramData\\anaconda3\\Lib\\asyncio\\events.py\", line 80, in _run\n",
      "    self._context.run(self._callback, *self._args)\n",
      "  File \"C:\\ProgramData\\anaconda3\\Lib\\site-packages\\ipykernel\\kernelbase.py\", line 534, in dispatch_queue\n",
      "    await self.process_one()\n",
      "  File \"C:\\ProgramData\\anaconda3\\Lib\\site-packages\\ipykernel\\kernelbase.py\", line 523, in process_one\n",
      "    await dispatch(*args)\n",
      "  File \"C:\\ProgramData\\anaconda3\\Lib\\site-packages\\ipykernel\\kernelbase.py\", line 429, in dispatch_shell\n",
      "    await result\n",
      "  File \"C:\\ProgramData\\anaconda3\\Lib\\site-packages\\ipykernel\\kernelbase.py\", line 767, in execute_request\n",
      "    reply_content = await reply_content\n",
      "  File \"C:\\ProgramData\\anaconda3\\Lib\\site-packages\\ipykernel\\ipkernel.py\", line 429, in do_execute\n",
      "    res = shell.run_cell(\n",
      "  File \"C:\\ProgramData\\anaconda3\\Lib\\site-packages\\ipykernel\\zmqshell.py\", line 549, in run_cell\n",
      "    return super().run_cell(*args, **kwargs)\n",
      "  File \"C:\\ProgramData\\anaconda3\\Lib\\site-packages\\IPython\\core\\interactiveshell.py\", line 3051, in run_cell\n",
      "    result = self._run_cell(\n",
      "  File \"C:\\ProgramData\\anaconda3\\Lib\\site-packages\\IPython\\core\\interactiveshell.py\", line 3106, in _run_cell\n",
      "    result = runner(coro)\n",
      "  File \"C:\\ProgramData\\anaconda3\\Lib\\site-packages\\IPython\\core\\async_helpers.py\", line 129, in _pseudo_sync_runner\n",
      "    coro.send(None)\n",
      "  File \"C:\\ProgramData\\anaconda3\\Lib\\site-packages\\IPython\\core\\interactiveshell.py\", line 3311, in run_cell_async\n",
      "    has_raised = await self.run_ast_nodes(code_ast.body, cell_name,\n",
      "  File \"C:\\ProgramData\\anaconda3\\Lib\\site-packages\\IPython\\core\\interactiveshell.py\", line 3493, in run_ast_nodes\n",
      "    if await self.run_code(code, result, async_=asy):\n",
      "  File \"C:\\ProgramData\\anaconda3\\Lib\\site-packages\\IPython\\core\\interactiveshell.py\", line 3553, in run_code\n",
      "    exec(code_obj, self.user_global_ns, self.user_ns)\n",
      "  File \"C:\\Users\\michel.marien_icarew\\AppData\\Local\\Temp\\ipykernel_24408\\2326351318.py\", line 2, in <module>\n",
      "    import pandas as pd\n",
      "  File \"C:\\Users\\michel.marien_icarew\\AppData\\Roaming\\Python\\Python311\\site-packages\\pandas\\__init__.py\", line 62, in <module>\n",
      "    from pandas.core.api import (\n",
      "  File \"C:\\Users\\michel.marien_icarew\\AppData\\Roaming\\Python\\Python311\\site-packages\\pandas\\core\\api.py\", line 28, in <module>\n",
      "    from pandas.core.arrays import Categorical\n",
      "  File \"C:\\Users\\michel.marien_icarew\\AppData\\Roaming\\Python\\Python311\\site-packages\\pandas\\core\\arrays\\__init__.py\", line 1, in <module>\n",
      "    from pandas.core.arrays.arrow import ArrowExtensionArray\n",
      "  File \"C:\\Users\\michel.marien_icarew\\AppData\\Roaming\\Python\\Python311\\site-packages\\pandas\\core\\arrays\\arrow\\__init__.py\", line 5, in <module>\n",
      "    from pandas.core.arrays.arrow.array import ArrowExtensionArray\n",
      "  File \"C:\\Users\\michel.marien_icarew\\AppData\\Roaming\\Python\\Python311\\site-packages\\pandas\\core\\arrays\\arrow\\array.py\", line 50, in <module>\n",
      "    from pandas.core import (\n",
      "  File \"C:\\Users\\michel.marien_icarew\\AppData\\Roaming\\Python\\Python311\\site-packages\\pandas\\core\\ops\\__init__.py\", line 8, in <module>\n",
      "    from pandas.core.ops.array_ops import (\n",
      "  File \"C:\\Users\\michel.marien_icarew\\AppData\\Roaming\\Python\\Python311\\site-packages\\pandas\\core\\ops\\array_ops.py\", line 56, in <module>\n",
      "    from pandas.core.computation import expressions\n",
      "  File \"C:\\Users\\michel.marien_icarew\\AppData\\Roaming\\Python\\Python311\\site-packages\\pandas\\core\\computation\\expressions.py\", line 21, in <module>\n",
      "    from pandas.core.computation.check import NUMEXPR_INSTALLED\n",
      "  File \"C:\\Users\\michel.marien_icarew\\AppData\\Roaming\\Python\\Python311\\site-packages\\pandas\\core\\computation\\check.py\", line 5, in <module>\n",
      "    ne = import_optional_dependency(\"numexpr\", errors=\"warn\")\n",
      "  File \"C:\\Users\\michel.marien_icarew\\AppData\\Roaming\\Python\\Python311\\site-packages\\pandas\\compat\\_optional.py\", line 135, in import_optional_dependency\n",
      "    module = importlib.import_module(name)\n",
      "  File \"C:\\ProgramData\\anaconda3\\Lib\\importlib\\__init__.py\", line 126, in import_module\n",
      "    return _bootstrap._gcd_import(name[level:], package, level)\n",
      "  File \"C:\\ProgramData\\anaconda3\\Lib\\site-packages\\numexpr\\__init__.py\", line 24, in <module>\n",
      "    from numexpr.interpreter import MAX_THREADS, use_vml, __BLOCK_SIZE1__\n"
     ]
    },
    {
     "ename": "AttributeError",
     "evalue": "_ARRAY_API not found",
     "output_type": "error",
     "traceback": [
      "\u001b[1;31m---------------------------------------------------------------------------\u001b[0m",
      "\u001b[1;31mAttributeError\u001b[0m                            Traceback (most recent call last)",
      "\u001b[1;31mAttributeError\u001b[0m: _ARRAY_API not found"
     ]
    },
    {
     "name": "stderr",
     "output_type": "stream",
     "text": [
      "\n",
      "A module that was compiled using NumPy 1.x cannot be run in\n",
      "NumPy 2.2.5 as it may crash. To support both 1.x and 2.x\n",
      "versions of NumPy, modules must be compiled with NumPy 2.0.\n",
      "Some module may need to rebuild instead e.g. with 'pybind11>=2.12'.\n",
      "\n",
      "If you are a user of the module, the easiest solution will be to\n",
      "downgrade to 'numpy<2' or try to upgrade the affected module.\n",
      "We expect that some modules will need time to support NumPy 2.\n",
      "\n",
      "Traceback (most recent call last):  File \"<frozen runpy>\", line 198, in _run_module_as_main\n",
      "  File \"<frozen runpy>\", line 88, in _run_code\n",
      "  File \"C:\\ProgramData\\anaconda3\\Lib\\site-packages\\ipykernel_launcher.py\", line 17, in <module>\n",
      "    app.launch_new_instance()\n",
      "  File \"C:\\ProgramData\\anaconda3\\Lib\\site-packages\\traitlets\\config\\application.py\", line 992, in launch_instance\n",
      "    app.start()\n",
      "  File \"C:\\ProgramData\\anaconda3\\Lib\\site-packages\\ipykernel\\kernelapp.py\", line 701, in start\n",
      "    self.io_loop.start()\n",
      "  File \"C:\\ProgramData\\anaconda3\\Lib\\site-packages\\tornado\\platform\\asyncio.py\", line 195, in start\n",
      "    self.asyncio_loop.run_forever()\n",
      "  File \"C:\\ProgramData\\anaconda3\\Lib\\asyncio\\windows_events.py\", line 321, in run_forever\n",
      "    super().run_forever()\n",
      "  File \"C:\\ProgramData\\anaconda3\\Lib\\asyncio\\base_events.py\", line 607, in run_forever\n",
      "    self._run_once()\n",
      "  File \"C:\\ProgramData\\anaconda3\\Lib\\asyncio\\base_events.py\", line 1922, in _run_once\n",
      "    handle._run()\n",
      "  File \"C:\\ProgramData\\anaconda3\\Lib\\asyncio\\events.py\", line 80, in _run\n",
      "    self._context.run(self._callback, *self._args)\n",
      "  File \"C:\\ProgramData\\anaconda3\\Lib\\site-packages\\ipykernel\\kernelbase.py\", line 534, in dispatch_queue\n",
      "    await self.process_one()\n",
      "  File \"C:\\ProgramData\\anaconda3\\Lib\\site-packages\\ipykernel\\kernelbase.py\", line 523, in process_one\n",
      "    await dispatch(*args)\n",
      "  File \"C:\\ProgramData\\anaconda3\\Lib\\site-packages\\ipykernel\\kernelbase.py\", line 429, in dispatch_shell\n",
      "    await result\n",
      "  File \"C:\\ProgramData\\anaconda3\\Lib\\site-packages\\ipykernel\\kernelbase.py\", line 767, in execute_request\n",
      "    reply_content = await reply_content\n",
      "  File \"C:\\ProgramData\\anaconda3\\Lib\\site-packages\\ipykernel\\ipkernel.py\", line 429, in do_execute\n",
      "    res = shell.run_cell(\n",
      "  File \"C:\\ProgramData\\anaconda3\\Lib\\site-packages\\ipykernel\\zmqshell.py\", line 549, in run_cell\n",
      "    return super().run_cell(*args, **kwargs)\n",
      "  File \"C:\\ProgramData\\anaconda3\\Lib\\site-packages\\IPython\\core\\interactiveshell.py\", line 3051, in run_cell\n",
      "    result = self._run_cell(\n",
      "  File \"C:\\ProgramData\\anaconda3\\Lib\\site-packages\\IPython\\core\\interactiveshell.py\", line 3106, in _run_cell\n",
      "    result = runner(coro)\n",
      "  File \"C:\\ProgramData\\anaconda3\\Lib\\site-packages\\IPython\\core\\async_helpers.py\", line 129, in _pseudo_sync_runner\n",
      "    coro.send(None)\n",
      "  File \"C:\\ProgramData\\anaconda3\\Lib\\site-packages\\IPython\\core\\interactiveshell.py\", line 3311, in run_cell_async\n",
      "    has_raised = await self.run_ast_nodes(code_ast.body, cell_name,\n",
      "  File \"C:\\ProgramData\\anaconda3\\Lib\\site-packages\\IPython\\core\\interactiveshell.py\", line 3493, in run_ast_nodes\n",
      "    if await self.run_code(code, result, async_=asy):\n",
      "  File \"C:\\ProgramData\\anaconda3\\Lib\\site-packages\\IPython\\core\\interactiveshell.py\", line 3553, in run_code\n",
      "    exec(code_obj, self.user_global_ns, self.user_ns)\n",
      "  File \"C:\\Users\\michel.marien_icarew\\AppData\\Local\\Temp\\ipykernel_24408\\2326351318.py\", line 2, in <module>\n",
      "    import pandas as pd\n",
      "  File \"C:\\Users\\michel.marien_icarew\\AppData\\Roaming\\Python\\Python311\\site-packages\\pandas\\__init__.py\", line 62, in <module>\n",
      "    from pandas.core.api import (\n",
      "  File \"C:\\Users\\michel.marien_icarew\\AppData\\Roaming\\Python\\Python311\\site-packages\\pandas\\core\\api.py\", line 28, in <module>\n",
      "    from pandas.core.arrays import Categorical\n",
      "  File \"C:\\Users\\michel.marien_icarew\\AppData\\Roaming\\Python\\Python311\\site-packages\\pandas\\core\\arrays\\__init__.py\", line 1, in <module>\n",
      "    from pandas.core.arrays.arrow import ArrowExtensionArray\n",
      "  File \"C:\\Users\\michel.marien_icarew\\AppData\\Roaming\\Python\\Python311\\site-packages\\pandas\\core\\arrays\\arrow\\__init__.py\", line 5, in <module>\n",
      "    from pandas.core.arrays.arrow.array import ArrowExtensionArray\n",
      "  File \"C:\\Users\\michel.marien_icarew\\AppData\\Roaming\\Python\\Python311\\site-packages\\pandas\\core\\arrays\\arrow\\array.py\", line 64, in <module>\n",
      "    from pandas.core.arrays.masked import BaseMaskedArray\n",
      "  File \"C:\\Users\\michel.marien_icarew\\AppData\\Roaming\\Python\\Python311\\site-packages\\pandas\\core\\arrays\\masked.py\", line 60, in <module>\n",
      "    from pandas.core import (\n",
      "  File \"C:\\Users\\michel.marien_icarew\\AppData\\Roaming\\Python\\Python311\\site-packages\\pandas\\core\\nanops.py\", line 52, in <module>\n",
      "    bn = import_optional_dependency(\"bottleneck\", errors=\"warn\")\n",
      "  File \"C:\\Users\\michel.marien_icarew\\AppData\\Roaming\\Python\\Python311\\site-packages\\pandas\\compat\\_optional.py\", line 135, in import_optional_dependency\n",
      "    module = importlib.import_module(name)\n",
      "  File \"C:\\ProgramData\\anaconda3\\Lib\\importlib\\__init__.py\", line 126, in import_module\n",
      "    return _bootstrap._gcd_import(name[level:], package, level)\n",
      "  File \"C:\\ProgramData\\anaconda3\\Lib\\site-packages\\bottleneck\\__init__.py\", line 7, in <module>\n",
      "    from .move import (move_argmax, move_argmin, move_max, move_mean, move_median,\n"
     ]
    },
    {
     "ename": "AttributeError",
     "evalue": "_ARRAY_API not found",
     "output_type": "error",
     "traceback": [
      "\u001b[1;31m---------------------------------------------------------------------------\u001b[0m",
      "\u001b[1;31mAttributeError\u001b[0m                            Traceback (most recent call last)",
      "\u001b[1;31mAttributeError\u001b[0m: _ARRAY_API not found"
     ]
    },
    {
     "ename": "ModuleNotFoundError",
     "evalue": "No module named 'google.colab'",
     "output_type": "error",
     "traceback": [
      "\u001b[1;31m---------------------------------------------------------------------------\u001b[0m",
      "\u001b[1;31mModuleNotFoundError\u001b[0m                       Traceback (most recent call last)",
      "Cell \u001b[1;32mIn[2], line 5\u001b[0m\n\u001b[0;32m      3\u001b[0m \u001b[38;5;28;01mimport\u001b[39;00m \u001b[38;5;21;01mmath\u001b[39;00m\n\u001b[0;32m      4\u001b[0m \u001b[38;5;28;01mimport\u001b[39;00m \u001b[38;5;21;01mgraphviz\u001b[39;00m\n\u001b[1;32m----> 5\u001b[0m \u001b[38;5;28;01mfrom\u001b[39;00m \u001b[38;5;21;01mgoogle\u001b[39;00m\u001b[38;5;21;01m.\u001b[39;00m\u001b[38;5;21;01mcolab\u001b[39;00m \u001b[38;5;28;01mimport\u001b[39;00m drive\n\u001b[0;32m      6\u001b[0m \u001b[38;5;28;01mimport\u001b[39;00m \u001b[38;5;21;01mmatplotlib\u001b[39;00m\u001b[38;5;21;01m.\u001b[39;00m\u001b[38;5;21;01mpyplot\u001b[39;00m \u001b[38;5;28;01mas\u001b[39;00m \u001b[38;5;21;01mplt\u001b[39;00m\n\u001b[0;32m      7\u001b[0m \u001b[38;5;28;01mimport\u001b[39;00m \u001b[38;5;21;01mpydot\u001b[39;00m\n",
      "\u001b[1;31mModuleNotFoundError\u001b[0m: No module named 'google.colab'"
     ]
    }
   ],
   "source": [
    "import numpy as np\n",
    "import pandas as pd\n",
    "import math\n",
    "import graphviz\n",
    "from google.colab import drive\n",
    "import matplotlib.pyplot as plt\n",
    "import pydot\n",
    "import pyagrum as gum\n",
    "import pyagrum.lib.notebook as gnb\n",
    "import pyagrum.causal as csl\n",
    "import pyagrum.causal.notebook as cslnb\n",
    "import pyagrum as gum\n",
    "import pyagrum.lib.notebook as gnb"
   ]
  },
  {
   "cell_type": "markdown",
   "id": "d0se2K0d2kYa",
   "metadata": {
    "id": "d0se2K0d2kYa"
   },
   "source": [
    "### Data preprocessing"
   ]
  },
  {
   "cell_type": "markdown",
   "id": "_ZLqriSL2Sek",
   "metadata": {
    "id": "_ZLqriSL2Sek"
   },
   "source": [
    "#### Upload data"
   ]
  },
  {
   "cell_type": "code",
   "execution_count": 3,
   "id": "Hrnq0WX91HGc",
   "metadata": {
    "colab": {
     "base_uri": "https://localhost:8080/"
    },
    "id": "Hrnq0WX91HGc",
    "outputId": "cf77e637-b6f2-4d86-e2b1-20526187ae9e"
   },
   "outputs": [
    {
     "ename": "NameError",
     "evalue": "name 'drive' is not defined",
     "output_type": "error",
     "traceback": [
      "\u001b[1;31m---------------------------------------------------------------------------\u001b[0m",
      "\u001b[1;31mNameError\u001b[0m                                 Traceback (most recent call last)",
      "Cell \u001b[1;32mIn[3], line 1\u001b[0m\n\u001b[1;32m----> 1\u001b[0m drive\u001b[38;5;241m.\u001b[39mmount(\u001b[38;5;124m\"\u001b[39m\u001b[38;5;124m/content/drive\u001b[39m\u001b[38;5;124m\"\u001b[39m)\n\u001b[0;32m      3\u001b[0m file_path \u001b[38;5;241m=\u001b[39m \u001b[38;5;124m'\u001b[39m\u001b[38;5;124m/content/drive/My Drive/Master_AI/BRML/ai4i2020.csv\u001b[39m\u001b[38;5;124m'\u001b[39m\n\u001b[0;32m      4\u001b[0m df_raw \u001b[38;5;241m=\u001b[39m pd\u001b[38;5;241m.\u001b[39mread_csv(file_path)\n",
      "\u001b[1;31mNameError\u001b[0m: name 'drive' is not defined"
     ]
    }
   ],
   "source": [
    "drive.mount(\"/content/drive\")\n",
    "\n",
    "file_path = '/content/drive/My Drive/Master_AI/BRML/ai4i2020.csv'\n",
    "df_raw = pd.read_csv(file_path)\n",
    "df_raw.info()"
   ]
  },
  {
   "cell_type": "code",
   "execution_count": null,
   "id": "514fd27a-37f3-46b6-b450-c7ab9edbb4b6",
   "metadata": {
    "id": "514fd27a-37f3-46b6-b450-c7ab9edbb4b6"
   },
   "outputs": [],
   "source": [
    "# Renaming columns\n",
    "df_data = df_raw.rename(columns={'UDI': 'uid',\n",
    "                                'Product ID': 'product_id',\n",
    "                                'Type': 'prod_quality',\n",
    "                                'Air temperature [K]': 'air_temp',\n",
    "                                'Process temperature [K]': 'process_temp',\n",
    "                                'Rotational speed [rpm]': 'rot_speed',\n",
    "                                'Torque [Nm]': 'torque',\n",
    "                                'Tool wear [min]': 'tool_wear',\n",
    "                                'Machine failure': 'machine_failure',\n",
    "                                'TWF': 'tool_wear_failure',\n",
    "                                'HDF': 'heat_dissipation_failure',\n",
    "                                'PWF': 'power_failure',\n",
    "                                'OSF': 'overstrain_failure',\n",
    "                                'RNF': 'random_failure'})"
   ]
  },
  {
   "cell_type": "code",
   "execution_count": null,
   "id": "d90b1767-6d54-43a1-8e35-d03a3ca73631",
   "metadata": {
    "id": "d90b1767-6d54-43a1-8e35-d03a3ca73631"
   },
   "outputs": [],
   "source": [
    "# Drop columns\n",
    "df_data.drop(['uid', 'product_id'],axis=1,inplace=True)"
   ]
  },
  {
   "cell_type": "code",
   "execution_count": null,
   "id": "fCKLGUcsu58V",
   "metadata": {
    "colab": {
     "base_uri": "https://localhost:8080/",
     "height": 1000
    },
    "id": "fCKLGUcsu58V",
    "outputId": "50b1e48a-2e2e-4b84-e4ba-04e009acab4c"
   },
   "outputs": [],
   "source": [
    "# Visualize numeric columns\n",
    "numeric_cols = ['tool_wear', 'air_temp', 'torque', 'process_temp', 'rot_speed']\n",
    "failure_cols_for_plotting = ['tool_wear_failure', 'heat_dissipation_failure','power_failure', 'overstrain_failure', 'random_failure']\n",
    "NUM_BINS_FOR_STACKED_CHART = 10\n",
    "\n",
    "df_to_plot = df_data\n",
    "\n",
    "for num_col in numeric_cols:\n",
    "\n",
    "    numeric_series = pd.to_numeric(df_to_plot[num_col], errors='coerce')\n",
    "\n",
    "    # Histogram of the values\n",
    "    plt.figure(figsize=(8, 5))\n",
    "    numeric_series.plot(kind='hist', bins=20, title=f'Histogram of {num_col}')\n",
    "    plt.xlabel(num_col)\n",
    "    plt.ylabel('Frequency')\n",
    "    plt.grid(axis='y', alpha=0.75)\n",
    "    plt.show()\n",
    "\n",
    "    # Stacked bar chart with failures per variable\n",
    "    temp_binned_col_name = f\"{num_col}_binned_for_stacked_plot\"\n",
    "    df_temp_plotting = df_to_plot.copy()\n",
    "\n",
    "    for fc in failure_cols_for_plotting:\n",
    "        if fc in df_temp_plotting.columns:\n",
    "            if df_temp_plotting[fc].dtype == 'bool':\n",
    "                df_temp_plotting[fc] = df_temp_plotting[fc].astype(int)\n",
    "            elif not pd.api.types.is_numeric_dtype(df_temp_plotting[fc]):\n",
    "                 df_temp_plotting[fc] = pd.to_numeric(df_temp_plotting[fc], errors='coerce').fillna(0).astype(int)\n",
    "\n",
    "    df_temp_plotting[temp_binned_col_name] = pd.cut(\n",
    "        numeric_series,\n",
    "        bins= 10,\n",
    "        precision=0,\n",
    "        include_lowest=True,\n",
    "        duplicates='drop')\n",
    "\n",
    "    try:\n",
    "        failure_counts_per_bin = df_temp_plotting.groupby(temp_binned_col_name, observed=False)[valid_failure_cols_in_temp_df].sum()\n",
    "    except Exception:\n",
    "        continue\n",
    "\n",
    "    if not failure_counts_per_bin.empty and failure_counts_per_bin.sum().sum() > 0 :\n",
    "        failure_counts_per_bin.plot(kind='bar', stacked=True, figsize=(12, 7), width=0.8)\n",
    "        plt.title(f'Stacked Failure Counts per {num_col.replace(\"_\", \" \").title()} Bin ({NUM_BINS_FOR_STACKED_CHART} Bins)')\n",
    "        plt.xlabel(f'{num_col.replace(\"_\", \" \").title()} Bins')\n",
    "        plt.ylabel('Number of Failures (Count)')\n",
    "        plt.xticks(rotation=45, ha='right')\n",
    "        plt.legend(title='Failure Types')\n",
    "        plt.tight_layout()\n",
    "        plt.grid(axis='y', linestyle='--', alpha=0.7)\n",
    "        plt.show()\n",
    "\n"
   ]
  },
  {
   "cell_type": "code",
   "execution_count": null,
   "id": "BDfYjizcu51v",
   "metadata": {
    "id": "BDfYjizcu51v"
   },
   "outputs": [],
   "source": [
    "# Filter dataset on tool_wear\n",
    "#df_data = df_data[df_data['tool_wear']>171]\n",
    "#df_data.info()"
   ]
  },
  {
   "cell_type": "code",
   "execution_count": null,
   "id": "840e251a-8695-4fbd-b4db-8030b55347d2",
   "metadata": {
    "colab": {
     "base_uri": "https://localhost:8080/",
     "height": 206
    },
    "id": "840e251a-8695-4fbd-b4db-8030b55347d2",
    "outputId": "1ab4cffd-774c-4743-cfd3-a734cdf9bec9"
   },
   "outputs": [],
   "source": [
    "# Bin continuous variables\n",
    "no_bins = 5\n",
    "custom_labels = ['very low', 'low', 'normal', 'high', 'very high']\n",
    "\n",
    "for col in numeric_cols:\n",
    "    if col in df_data.columns:\n",
    "        df_data[col] = pd.to_numeric(df_data[col], errors='coerce')\n",
    "        df_data[col] = pd.cut(df_data[col], bins=no_bins, labels=custom_labels, precision=5, duplicates='drop')\n",
    "df_data.head()"
   ]
  },
  {
   "cell_type": "code",
   "execution_count": null,
   "id": "814aa199-bf2a-4c7d-8362-e75667116055",
   "metadata": {
    "colab": {
     "base_uri": "https://localhost:8080/"
    },
    "id": "814aa199-bf2a-4c7d-8362-e75667116055",
    "outputId": "29440f1e-3740-4179-af1f-1c30700d78d1"
   },
   "outputs": [],
   "source": [
    "# Transform column types\n",
    "df_preprocessed = df_data\n",
    "cat_list = ['prod_quality']\n",
    "bool_list = ['tool_wear_failure','heat_dissipation_failure','power_failure','overstrain_failure','random_failure','machine_failure']\n",
    "\n",
    "df_preprocessed[cat_list] = df_preprocessed[cat_list].astype('category')\n",
    "df_preprocessed[bool_list] = df_preprocessed[bool_list].astype('bool')\n",
    "df_preprocessed.info()"
   ]
  },
  {
   "cell_type": "markdown",
   "id": "iBGbZUic8ib_",
   "metadata": {
    "id": "iBGbZUic8ib_"
   },
   "source": [
    "## Bayesian Network Creation"
   ]
  },
  {
   "cell_type": "code",
   "execution_count": null,
   "id": "je16wiUGK2Yj",
   "metadata": {
    "id": "je16wiUGK2Yj"
   },
   "outputs": [],
   "source": [
    "failure_prediction = gum.BNLearner(df_preprocessed)"
   ]
  },
  {
   "cell_type": "code",
   "execution_count": null,
   "id": "tK7rL7pqJ6sC",
   "metadata": {
    "colab": {
     "base_uri": "https://localhost:8080/"
    },
    "id": "tK7rL7pqJ6sC",
    "outputId": "80163240-56ce-4d77-95f1-5df397ee031b"
   },
   "outputs": [],
   "source": [
    "failure_prediction.useLocalSearchWithTabuList()"
   ]
  },
  {
   "cell_type": "code",
   "execution_count": null,
   "id": "qGMyU9rfJ6pB",
   "metadata": {
    "colab": {
     "base_uri": "https://localhost:8080/",
     "height": 501
    },
    "id": "qGMyU9rfJ6pB",
    "outputId": "b273d7de-3600-482c-9a05-5641330b4e9b"
   },
   "outputs": [],
   "source": [
    "# Bayesian network learned from the data\n",
    "bn_failure_prediction = failure_prediction.learnBN()\n",
    "gnb.showBN(bn_failure_prediction)"
   ]
  },
  {
   "cell_type": "code",
   "execution_count": null,
   "id": "Qddk7eVsJnBL",
   "metadata": {
    "colab": {
     "base_uri": "https://localhost:8080/"
    },
    "id": "Qddk7eVsJnBL",
    "outputId": "67026be9-7655-4000-9ddd-7c6514dcce7b"
   },
   "outputs": [],
   "source": [
    "# Mandatory arcs\n",
    "failure_prediction.addMandatoryArc(\"prod_quality\",\"tool_wear\") # prod_quality->tool_wear\n",
    "failure_prediction.addMandatoryArc(\"tool_wear\",\"tool_wear_failure\") # tool_wear->tool_wear_failure\n",
    "failure_prediction.addMandatoryArc(\"rot_speed\",\"heat_dissipation_failure\") # rot_speed->heat_dissipation_failure\n",
    "failure_prediction.addMandatoryArc(\"process_temp\",\"heat_dissipation_failure\") # process_temp->heat_dissipation_failure\n",
    "failure_prediction.addMandatoryArc(\"air_temp\",\"heat_dissipation_failure\") # air_temp->heat_dissipation_failure\n",
    "failure_prediction.addMandatoryArc(\"rot_speed\",\"power_failure\") # rot_speed->power_failure\n",
    "failure_prediction.addMandatoryArc(\"torque\",\"power_failure\") # torque->power_failure\n",
    "failure_prediction.addMandatoryArc(\"prod_quality\",\"overstrain_failure\") # prod_quality->overstrain_failure\n",
    "failure_prediction.addMandatoryArc(\"tool_wear\",\"overstrain_failure\") # tool_wear->overstrain_failure\n",
    "failure_prediction.addMandatoryArc(\"torque\",\"overstrain_failure\") # torque->overstrain_failure\n",
    "failure_prediction.addMandatoryArc(\"overstrain_failure\",\"machine_failure\") # overstrain_failure->machine_failure\n",
    "failure_prediction.addMandatoryArc(\"power_failure\",\"machine_failure\") # power_failure->machine_failure\n",
    "failure_prediction.addMandatoryArc(\"random_failure\",\"machine_failure\") # random_failure->machine_failure\n",
    "failure_prediction.addMandatoryArc(\"tool_wear_failure\",\"machine_failure\") # tool_wear_failure->machine_failure\n",
    "failure_prediction.addMandatoryArc(\"heat_dissipation_failure\",\"machine_failure\") # heat_dissipation_failure->machine_failure\n",
    "#gnb.showBN(bn_failure_prediction)"
   ]
  },
  {
   "cell_type": "code",
   "execution_count": null,
   "id": "ZdPKiqsdJm50",
   "metadata": {
    "colab": {
     "base_uri": "https://localhost:8080/"
    },
    "id": "ZdPKiqsdJm50",
    "outputId": "927ea39c-e043-431b-acb9-2ea2d2cbea74"
   },
   "outputs": [],
   "source": [
    "# Forbidden arcs\n",
    "failure_prediction.addForbiddenArc(\"air_temp\",\"process_temp\")\n",
    "failure_prediction.addForbiddenArc(\"process_temp\",\"air_temp\")\n",
    "failure_prediction.addForbiddenArc(\"rot_speed\",\"torque\")\n",
    "failure_prediction.addForbiddenArc(\"torque\",\"rot_speed\")\n",
    "failure_prediction.addForbiddenArc(\"overstrain_failure\",\"rot_speed\")\n",
    "failure_prediction.addForbiddenArc(\"rot_speed\",\"overstrain_failure\")\n",
    "failure_prediction.addForbiddenArc(\"heat_dissipation_failure\",\"torque\")\n",
    "failure_prediction.addForbiddenArc(\"torque\",\"heat_dissipation_failure\")\n",
    "failure_prediction.addForbiddenArc(\"overstrain_failure\",\"power_failure\")\n",
    "failure_prediction.addForbiddenArc(\"power_failure\",\"overstrain_failure\")\n",
    "failure_prediction.addForbiddenArc(\"heat_dissipation_failure\",\"power_failure\")\n",
    "failure_prediction.addForbiddenArc(\"power_failure\",\"heat_dissipation_failure\")\n",
    "failure_prediction.addForbiddenArc(\"random_failure\",\"power_failure\")\n",
    "failure_prediction.addForbiddenArc(\"random_failure\",\"heat_dissipation_failure\")\n",
    "failure_prediction.addForbiddenArc(\"random_failure\",\"prod_quality\")\n",
    "failure_prediction.addForbiddenArc(\"prod_quality\",\"random_failure\")\n",
    "failure_prediction.addForbiddenArc(\"tool_wear_failure\",\"random_failure\")\n",
    "failure_prediction.addForbiddenArc(\"random_failure\",\"tool_wear_failure\")"
   ]
  },
  {
   "cell_type": "code",
   "execution_count": null,
   "id": "aZzF9F2AcOkL",
   "metadata": {
    "colab": {
     "base_uri": "https://localhost:8080/",
     "height": 163
    },
    "id": "aZzF9F2AcOkL",
    "outputId": "952cdcd5-dde0-4067-9dfe-899246db6a68"
   },
   "outputs": [],
   "source": [
    "# Network with modified mandatory and forbidden arcs\n",
    "bn_failure_prediction = failure_prediction.learnBN()\n",
    "gnb.showBN(bn_failure_prediction)"
   ]
  },
  {
   "cell_type": "code",
   "execution_count": null,
   "id": "5-nj2PjEd9cN",
   "metadata": {
    "id": "5-nj2PjEd9cN"
   },
   "outputs": [],
   "source": [
    "bn_failure_prediction_learned = gum.BNLearner(df_preprocessed, bn_failure_prediction)\n",
    "bn_failure_prediction_learned.useSmoothingPrior(weight=1)\n",
    "learned_failure_prediction = bn_failure_prediction_learned.learnParameters(bn_failure_prediction)"
   ]
  },
  {
   "cell_type": "code",
   "execution_count": null,
   "id": "B_XHV3EAFPPm",
   "metadata": {
    "colab": {
     "base_uri": "https://localhost:8080/",
     "height": 366
    },
    "id": "B_XHV3EAFPPm",
    "outputId": "0ba5be34-b130-449d-ee73-10d3b529ae79"
   },
   "outputs": [],
   "source": [
    "# Show bayesian network with learned probabilities\n",
    "gnb.showInference(learned_failure_prediction)"
   ]
  },
  {
   "cell_type": "code",
   "execution_count": null,
   "id": "BZjLQyUxeMyA",
   "metadata": {
    "id": "BZjLQyUxeMyA"
   },
   "outputs": [],
   "source": [
    "from IPython.display import HTML"
   ]
  },
  {
   "cell_type": "code",
   "execution_count": null,
   "id": "sAORVbwbeMuk",
   "metadata": {
    "colab": {
     "base_uri": "https://localhost:8080/",
     "height": 396
    },
    "id": "sAORVbwbeMuk",
    "outputId": "84a21bdf-1f80-4e92-e6c2-86b25a60874f"
   },
   "outputs": [],
   "source": [
    "gnb.sideBySide(\"<H3>prod_quality</H3>\",\"<H3>tool_wear</H3>\",\n",
    "               learned_failure_prediction.cpt ('prod_quality'),learned_failure_prediction.cpt ('tool_wear'),\n",
    "               \"<H3>torque</H3>\",\"<H3>rot_speed</H3>\",\n",
    "               learned_failure_prediction.cpt ('torque'),learned_failure_prediction.cpt ('rot_speed'),\n",
    "               \"<H3>air_temp</H3>\",\"<H3>process_temp</H3>\",\n",
    "               learned_failure_prediction.cpt ('air_temp'),learned_failure_prediction.cpt ('process_temp'),\n",
    "               ncols=2)"
   ]
  },
  {
   "cell_type": "code",
   "execution_count": null,
   "id": "ZLLVWT9ill2h",
   "metadata": {
    "colab": {
     "base_uri": "https://localhost:8080/",
     "height": 1000
    },
    "id": "ZLLVWT9ill2h",
    "outputId": "f0915d8c-1ddb-423b-b4fd-003c45415812"
   },
   "outputs": [],
   "source": [
    "gnb.sideBySide(\"<H3>tool_wear_failure</H3>\",\"<H3>overstrain_failure</H3>\",\"<H3>power_failure</H3>\",\n",
    "               learned_failure_prediction.cpt ('tool_wear_failure'),learned_failure_prediction.cpt ('overstrain_failure'),learned_failure_prediction.cpt ('power_failure'),\n",
    "               \"<H3>heat_dissipation_failure</H3>\",\"<H3>random_failure</H3>\",\"<H3>machine_failure</H3>\",\n",
    "               learned_failure_prediction.cpt ('heat_dissipation_failure'),learned_failure_prediction.cpt ('random_failure'),learned_failure_prediction.cpt ('machine_failure'),\n",
    "               ncols=3)"
   ]
  },
  {
   "cell_type": "markdown",
   "id": "GzSmbphtDoRL",
   "metadata": {
    "id": "GzSmbphtDoRL"
   },
   "source": [
    "## Causal inference"
   ]
  },
  {
   "cell_type": "code",
   "execution_count": null,
   "id": "3D_l-JgteMnv",
   "metadata": {
    "id": "3D_l-JgteMnv"
   },
   "outputs": [],
   "source": [
    "cm_learned_failure_prediction = csl.CausalModel(learned_failure_prediction)"
   ]
  },
  {
   "cell_type": "code",
   "execution_count": null,
   "id": "j9aweu4gDwtA",
   "metadata": {
    "id": "j9aweu4gDwtA"
   },
   "outputs": [],
   "source": [
    "def make_infercences(bn, evidence):\n",
    "  gnb.showInference(bn, evs=evidence)"
   ]
  },
  {
   "cell_type": "code",
   "execution_count": null,
   "id": "HoCxeoSrJ0ll",
   "metadata": {
    "id": "HoCxeoSrJ0ll"
   },
   "outputs": [],
   "source": [
    "# Scenario : High stress\n",
    "# A machine has failed. During troubleshooting the engineer observed that the machine had high rotational speed and torque prior to failure.\n",
    "\n",
    "# Potential question for the model:\\newline\n",
    "# \"Given high rotational speed, high torque and machine failure, what is the probability of overstrain_failure\"\n",
    "\n",
    "high_stress = {\n",
    "    'rot_speed': 'high',\n",
    "    'torque': 'high',\n",
    "    'machine_failure': True\n",
    "}"
   ]
  },
  {
   "cell_type": "code",
   "execution_count": null,
   "id": "USuaurglJ0ai",
   "metadata": {
    "colab": {
     "base_uri": "https://localhost:8080/",
     "height": 366
    },
    "id": "USuaurglJ0ai",
    "outputId": "159be2dd-86d2-4e66-9ce1-381f2c70bc52"
   },
   "outputs": [],
   "source": [
    "make_infercences(learned_failure_prediction, high_stress)"
   ]
  },
  {
   "cell_type": "code",
   "execution_count": null,
   "id": "57F1EjjoJ0Ix",
   "metadata": {
    "id": "57F1EjjoJ0Ix"
   },
   "outputs": [],
   "source": [
    "# Scenario: High temperatures\n",
    "# A machine has failed. During troubleshooting the engineer observed that both air and process temperatures were very high prior to failure.\n",
    "\n",
    "# Potential question for the model:\n",
    "# \"Given both air and process temperatures were very high during machine failure, what is the likelihood of heat_dissipation_failure\"\n",
    "\n",
    "high_temperatures = {\n",
    "    'air_temp': 'very high',\n",
    "    'process_temp': 'very high',\n",
    "    'machine_failure': True\n",
    "}"
   ]
  },
  {
   "cell_type": "code",
   "execution_count": null,
   "id": "fVpcBZl6J5pg",
   "metadata": {
    "colab": {
     "base_uri": "https://localhost:8080/",
     "height": 366
    },
    "id": "fVpcBZl6J5pg",
    "outputId": "b04dc1e3-781c-412c-9ef0-ad63a2a8f2c7"
   },
   "outputs": [],
   "source": [
    "make_infercences(learned_failure_prediction, high_temperatures)"
   ]
  },
  {
   "cell_type": "code",
   "execution_count": null,
   "id": "-1QHc-oAJ5cW",
   "metadata": {
    "id": "-1QHc-oAJ5cW"
   },
   "outputs": [],
   "source": [
    "# Scenario: High temperatures revisited\n",
    "# During the previous investigation, the engineer realized he made a mistake, the process temperature was actually low. He also noticed that the rotational speed was low as well.\n",
    "\n",
    "# Potential question for the model\n",
    "# \"Given the additional information, what is the likelihood of heat_dissipation_failure\"}\n",
    "\n",
    "high_temperatures_2 = {\n",
    "    'air_temp': 'very high',\n",
    "    'process_temp': 'low',\n",
    "    'rot_speed': 'low',\n",
    "    'machine_failure': True\n",
    "}"
   ]
  },
  {
   "cell_type": "code",
   "execution_count": null,
   "id": "wKp0_OitJ5DX",
   "metadata": {
    "colab": {
     "base_uri": "https://localhost:8080/",
     "height": 366
    },
    "id": "wKp0_OitJ5DX",
    "outputId": "994f23a0-12d4-4725-a5eb-3f604e21e255"
   },
   "outputs": [],
   "source": [
    "make_infercences(learned_failure_prediction, high_temperatures_2)"
   ]
  }
 ],
 "metadata": {
  "accelerator": "GPU",
  "colab": {
   "gpuType": "T4",
   "provenance": []
  },
  "kernelspec": {
   "display_name": "Python 3 (ipykernel)",
   "language": "python",
   "name": "python3"
  },
  "language_info": {
   "codemirror_mode": {
    "name": "ipython",
    "version": 3
   },
   "file_extension": ".py",
   "mimetype": "text/x-python",
   "name": "python",
   "nbconvert_exporter": "python",
   "pygments_lexer": "ipython3",
   "version": "3.11.7"
  }
 },
 "nbformat": 4,
 "nbformat_minor": 5
}
