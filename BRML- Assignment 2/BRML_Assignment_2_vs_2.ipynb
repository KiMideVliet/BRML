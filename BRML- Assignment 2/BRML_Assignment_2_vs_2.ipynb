{
 "cells": [
  {
   "cell_type": "markdown",
   "id": "sdD9Z5CW1Vpo",
   "metadata": {
    "id": "sdD9Z5CW1Vpo"
   },
   "source": [
    "# Bayesian Reasoning and Machine Learning"
   ]
  },
  {
   "cell_type": "markdown",
   "id": "AvV5epV21lc6",
   "metadata": {
    "id": "AvV5epV21lc6"
   },
   "source": [
    "### Michel Mariën, Assignment 2"
   ]
  },
  {
   "cell_type": "markdown",
   "id": "FT-c0NmW2z0x",
   "metadata": {
    "id": "FT-c0NmW2z0x"
   },
   "source": [
    "## Notebook setup"
   ]
  },
  {
   "cell_type": "markdown",
   "id": "uisHuMK_1418",
   "metadata": {
    "id": "uisHuMK_1418"
   },
   "source": [
    "#### Installing required packages"
   ]
  },
  {
   "cell_type": "code",
   "execution_count": 1,
   "id": "YzNcpePGYfmi",
   "metadata": {
    "colab": {
     "base_uri": "https://localhost:8080/"
    },
    "id": "YzNcpePGYfmi",
    "outputId": "1805f62d-4065-410a-afa1-ce546d534fca"
   },
   "outputs": [],
   "source": [
    "#!pip install pyagrum\n",
    "#!pip install scikit-learn\n",
    "#!pip install graphviz\n",
    "#!pip install pydot\n",
    "#!pip install scikit-learn\n",
    "#!pip show pyagrum\n",
    "#!pip install tqdm"
   ]
  },
  {
   "cell_type": "markdown",
   "id": "dOyG7NnG2G3X",
   "metadata": {
    "id": "dOyG7NnG2G3X"
   },
   "source": [
    "#### Importing required packages"
   ]
  },
  {
   "cell_type": "code",
   "execution_count": null,
   "id": "8bcb7a6a-da47-4781-b288-fd1c0899484e",
   "metadata": {},
   "outputs": [],
   "source": []
  },
  {
   "cell_type": "code",
   "execution_count": null,
   "id": "20f1c1f5-2a57-4668-bcf3-cf9616b9db0c",
   "metadata": {},
   "outputs": [],
   "source": []
  },
  {
   "cell_type": "code",
   "execution_count": 2,
   "id": "SMe_FcBzcUDU",
   "metadata": {
    "id": "SMe_FcBzcUDU"
   },
   "outputs": [],
   "source": [
    "import numpy as np\n",
    "import pandas as pd\n",
    "import math\n",
    "import graphviz\n",
    "import matplotlib.pyplot as plt\n",
    "import pydot\n",
    "import pyagrum as gum\n",
    "import pyagrum.lib.notebook as gnb\n",
    "import pyagrum.causal as csl\n",
    "import pyagrum.causal.notebook as cslnb\n",
    "import pyagrum as gum\n",
    "import pyagrum.lib.notebook as gnb"
   ]
  },
  {
   "cell_type": "markdown",
   "id": "d0se2K0d2kYa",
   "metadata": {
    "id": "d0se2K0d2kYa"
   },
   "source": [
    "### Data preprocessing"
   ]
  },
  {
   "cell_type": "markdown",
   "id": "_ZLqriSL2Sek",
   "metadata": {
    "id": "_ZLqriSL2Sek"
   },
   "source": [
    "#### Upload data"
   ]
  },
  {
   "cell_type": "markdown",
   "id": "iBGbZUic8ib_",
   "metadata": {
    "id": "iBGbZUic8ib_"
   },
   "source": [
    "## Bayesian Network Creation"
   ]
  },
  {
   "cell_type": "markdown",
   "id": "GzSmbphtDoRL",
   "metadata": {
    "id": "GzSmbphtDoRL"
   },
   "source": [
    "## Causal inference"
   ]
  },
  {
   "cell_type": "code",
   "execution_count": 3,
   "id": "kocH1h1XIl-G",
   "metadata": {
    "id": "kocH1h1XIl-G"
   },
   "outputs": [],
   "source": [
    "import pyagrum\n",
    "import pyagrum.lib.explain as explain\n",
    "import pyagrum.lib.bn_vs_bn as bn_vs_bn\n",
    "from pylab import *"
   ]
  },
  {
   "cell_type": "code",
   "execution_count": 4,
   "id": "MEUdaFkBImBf",
   "metadata": {
    "id": "MEUdaFkBImBf"
   },
   "outputs": [],
   "source": [
    "# Task 2.2a: Investigating the effect of sample size of learning structure\n",
    "## Generate 1000 samples\n",
    "## Generate network structures\n",
    "## Investigate effect size of the dataset on the structure of the resulting BN network\n",
    "## do this for both learning algorithms: constraint-based -> MICC and score-based: -> greedy hill climb\n",
    "## evaluate the networks in terms of how well it learns the original bayesian network in terms of structure (manual comparison or visulisation of the structure)"
   ]
  },
  {
   "cell_type": "code",
   "execution_count": 5,
   "id": "mRbjvjcJR-V2",
   "metadata": {
    "colab": {
     "base_uri": "https://localhost:8080/"
    },
    "id": "mRbjvjcJR-V2",
    "outputId": "7b977ec7-c4a6-4b05-95ea-7b16aff631c9"
   },
   "outputs": [
    {
     "name": "stderr",
     "output_type": "stream",
     "text": [
      "sample_cnc.csv: 100%|██████████████████████████████████████|"
     ]
    },
    {
     "name": "stdout",
     "output_type": "stream",
     "text": [
      "Log2-Likelihood : -10863.703887007629\n"
     ]
    },
    {
     "name": "stderr",
     "output_type": "stream",
     "text": [
      "\n"
     ]
    },
    {
     "data": {
      "text/plain": [
       "-10863.703887007629"
      ]
     },
     "execution_count": 5,
     "metadata": {},
     "output_type": "execute_result"
    }
   ],
   "source": [
    "## Generate 1000 samples\n",
    "bif_file_path = 'C:\\\\Users\\\\michel.marien_icarew\\\\Documents\\\\GitHub\\\\BRML\\\\BRML- Assignment 2\\\\CNC_bif.bif'\n",
    "no_samples = 1000\n",
    "\n",
    "bn_cnc = gum.loadBN(bif_file_path)\n",
    "gum.generateSample(bn_cnc, no_samples, \"sample_cnc.csv\", True)"
   ]
  },
  {
   "cell_type": "code",
   "execution_count": null,
   "id": "lWVS0EchR-R5",
   "metadata": {
    "colab": {
     "base_uri": "https://localhost:8080/",
     "height": 163
    },
    "id": "lWVS0EchR-R5",
    "outputId": "b1957b78-9ba3-4be6-aaaa-fbf5dd718f0b"
   },
   "outputs": [],
   "source": [
    "learner = gum.BNLearner(\"sample_cnc.csv\", bn_cnc)  # using bn as template for variables and labels\n",
    "learner.useSmoothingPrior(weight=1)\n",
    "bn_cnc_2 = learner.learnParameters(bn_cnc.dag())\n",
    "gnb.showBN(bn_cnc_2)"
   ]
  },
  {
   "cell_type": "code",
   "execution_count": null,
   "id": "xBTEkf48R-Ov",
   "metadata": {
    "colab": {
     "base_uri": "https://localhost:8080/",
     "height": 251
    },
    "id": "xBTEkf48R-Ov",
    "outputId": "595ec842-ca23-4d83-cddd-8a1ba52ba8fd"
   },
   "outputs": [],
   "source": [
    "learner = gum.BNLearner(\"sample_cnc.csv\", bn_cnc)  # using bn as template for variables and labels\n",
    "learner.useSmoothingPrior(weight=1)\n",
    "learner.useLocalSearchWithTabuList()\n",
    "print(learner)\n",
    "bn_cnc_2 = learner.learnBN()\n",
    "print(\"Learned in {0}ms\".format(1000 * learner.currentTime()))\n",
    "#gnb.flow.row(bn_cnc, bn_cnc_2, explain.getInformation(bn_cnc_2), captions=[\"Original BN\", \"Learned BN\", \"information\"])\n",
    "gnb.flow.row(bn_cnc, bn_cnc_2, captions=[\"Original BN\", \"Learned BN\"])"
   ]
  },
  {
   "cell_type": "code",
   "execution_count": null,
   "id": "W29FrR43xhl4",
   "metadata": {
    "colab": {
     "base_uri": "https://localhost:8080/"
    },
    "id": "W29FrR43xhl4",
    "outputId": "340f753f-c5c4-46f3-cccc-a4a8a5821075"
   },
   "outputs": [],
   "source": [
    "kl = gum.ExactBNdistance(bn_cnc, bn_cnc_2)\n",
    "kl.compute()"
   ]
  },
  {
   "cell_type": "code",
   "execution_count": null,
   "id": "aKCK7mXvxhei",
   "metadata": {
    "colab": {
     "base_uri": "https://localhost:8080/"
    },
    "id": "aKCK7mXvxhei",
    "outputId": "2e3a9cd4-942a-4a56-9e7b-180aeb2f278b"
   },
   "outputs": [],
   "source": [
    "import pyagrum.lib.explain as explain\n",
    "\n",
    "# Assuming bn_cnc_2 is your learned Bayesian Network\n",
    "\n",
    "# explain.getInformation() directly returns the string of SVG code\n",
    "svg_code = explain.getInformation(bn_cnc_2)\n",
    "\n",
    "# Now save this string directly to a file\n",
    "svg_filepath = \"bn_information.svg\"\n",
    "with open(svg_filepath, \"w\") as f:\n",
    "    f.write(svg_code)\n",
    "\n",
    "print(f\"✅ Successfully saved vector graphic to '{svg_filepath}'\")"
   ]
  },
  {
   "cell_type": "code",
   "execution_count": null,
   "id": "KZezz2DZR-Lf",
   "metadata": {
    "colab": {
     "base_uri": "https://localhost:8080/",
     "height": 233
    },
    "id": "KZezz2DZR-Lf",
    "outputId": "6ad895fb-5a49-49ee-cab7-c20c874c3c0c"
   },
   "outputs": [],
   "source": [
    "gnb.showBN(bn_cnc_2)"
   ]
  },
  {
   "cell_type": "code",
   "execution_count": null,
   "id": "Nv_gW2GuR-Co",
   "metadata": {
    "colab": {
     "base_uri": "https://localhost:8080/",
     "height": 163
    },
    "id": "Nv_gW2GuR-Co",
    "outputId": "08b60d5d-bd23-4974-db1e-9388a9da1ce1"
   },
   "outputs": [],
   "source": [
    "gnb.showBN(bn_cnc)"
   ]
  },
  {
   "cell_type": "code",
   "execution_count": null,
   "id": "HzPiQ0qaR95f",
   "metadata": {
    "colab": {
     "base_uri": "https://localhost:8080/",
     "height": 233
    },
    "id": "HzPiQ0qaR95f",
    "outputId": "cdc141b7-a1ce-446d-9c99-ec63e7395293"
   },
   "outputs": [],
   "source": [
    "gnb.showBN(bn_cnc_2)"
   ]
  },
  {
   "cell_type": "code",
   "execution_count": null,
   "id": "tDc2QbmTJhKK",
   "metadata": {
    "id": "tDc2QbmTJhKK"
   },
   "outputs": [],
   "source": [
    "import pyagrum.lib.bn_vs_bn as bnvsbn"
   ]
  },
  {
   "cell_type": "code",
   "execution_count": null,
   "id": "naVMujZyJHtY",
   "metadata": {
    "colab": {
     "base_uri": "https://localhost:8080/",
     "height": 422
    },
    "id": "naVMujZyJHtY",
    "outputId": "0a3a2958-fa6c-40f3-f51d-725ea3c426b7"
   },
   "outputs": [],
   "source": [
    "gnb.flow.row(bn_cnc, bn_cnc_2, captions=[\"bn_cnc\", \"bn_cnc_2\"])\n",
    "gnb.flow.row(\n",
    "  bnvsbn.graphDiff(bn_cnc, bn_cnc_2),\n",
    "  bnvsbn.graphDiff(bn_cnc_2, bn_cnc),\n",
    "  bnvsbn.graphDiffLegend(),\n",
    "  captions=[\"bn_cnc versus bn_cnc_2\", \"bn_cnc_2 versus bn_cnc\", \"\"],\n",
    ")\n",
    "\n",
    "gcmp = bnvsbn.GraphicalBNComparator(bn_cnc, bn_cnc_2)\n",
    "gnb.flow.add_html(\n",
    "  \"<br/>\".join([f\"{k} : {v:.2f}\" for k, v in gcmp.skeletonScores().items() if k != \"count\"]), \"Skeleton scores\"\n",
    ")\n",
    "gnb.flow.add_html(\"<br/>\".join([f\"{k} : {v:.2f}\" for k, v in gcmp.scores().items() if k != \"count\"]), \"Scores\")\n",
    "\n",
    "gnb.flow.display()"
   ]
  },
  {
   "cell_type": "code",
   "execution_count": null,
   "id": "dycK98nfJHqf",
   "metadata": {
    "colab": {
     "base_uri": "https://localhost:8080/",
     "height": 216
    },
    "id": "dycK98nfJHqf",
    "outputId": "066d72cb-f0f0-40e7-e16b-1fefbbfd4367"
   },
   "outputs": [],
   "source": [
    "learner = gum.BNLearner(\"sample_cnc.csv\", bn_cnc)  # using bn as template for variables and labels\n",
    "learner.useGreedyHillClimbing()\n",
    "print(learner)\n",
    "bn2 = learner.learnBN()\n",
    "print(\"Learned in {0}ms\".format(1000 * learner.currentTime()))\n",
    "gnb.sideBySide(\n",
    "  bn_cnc,\n",
    "  bn2,\n",
    "  gnb.getBNDiff(bn_cnc, bn2),\n",
    "  explain.getInformation(bn2),\n",
    "  captions=[\"Original BN\", \"Learned BN\", \"Graphical diff\", \"information\"],\n",
    ")"
   ]
  },
  {
   "cell_type": "code",
   "execution_count": null,
   "id": "9joOhHSQLHZx",
   "metadata": {
    "colab": {
     "base_uri": "https://localhost:8080/",
     "height": 490
    },
    "id": "9joOhHSQLHZx",
    "outputId": "2a7cfe42-6f12-4bc0-a70a-cb701d35e8be"
   },
   "outputs": [],
   "source": [
    "from IPython.display import HTML\n",
    "gnb.sideBySide(gnb.showBN(bn_cnc_2),gnb.showBN(bn2),\n",
    "               ncols=2)"
   ]
  },
  {
   "cell_type": "code",
   "execution_count": null,
   "id": "yU-orv_hJHlM",
   "metadata": {
    "colab": {
     "base_uri": "https://localhost:8080/"
    },
    "id": "yU-orv_hJHlM",
    "outputId": "dc24da78-df9c-4a50-d678-61061baa75fa"
   },
   "outputs": [],
   "source": [
    "svg_code2 = explain.getInformation(bn2)\n",
    "\n",
    "# Now save this string directly to a file\n",
    "svg_filepath2 = \"bn_information2.svg\"\n",
    "with open(svg_filepath2, \"w\") as f:\n",
    "    f.write(svg_code)\n",
    "\n",
    "print(f\"✅ Successfully saved vector graphic to '{svg_filepath2}'\")"
   ]
  },
  {
   "cell_type": "code",
   "execution_count": null,
   "id": "qe_LJBw3JHiX",
   "metadata": {
    "id": "qe_LJBw3JHiX"
   },
   "outputs": [],
   "source": [
    "rows = 3\n",
    "sizes = [400, 500, 700, 1000, 2000, 5000, 10000, 50000, 75000, 100000, 150000, 175000, 200000, 300000, 500000]\n",
    "\n",
    "\n",
    "def extract_cnc(n):\n",
    "  \"\"\"\n",
    "  extract n line from asia.csv to extract.csv\n",
    "  \"\"\"\n",
    "  with open(\"sample_cnc.csv\", \"r\") as src:\n",
    "    with open(\"extract_cnc.csv\", \"w\") as dst:\n",
    "      for _ in range(n + 1):\n",
    "        print(src.readline(), end=\"\", file=dst)"
   ]
  },
  {
   "cell_type": "code",
   "execution_count": null,
   "id": "n3J899OZJHfe",
   "metadata": {
    "colab": {
     "base_uri": "https://localhost:8080/",
     "height": 1000
    },
    "id": "n3J899OZJHfe",
    "outputId": "9931cdc2-0e3c-47e6-f9dc-6a951854986e"
   },
   "outputs": [],
   "source": [
    "gnb.flow.clear()\n",
    "nbr = 0\n",
    "l = []\n",
    "for i in sizes:\n",
    "  extract_cnc(i)\n",
    "  learner = gum.BNLearner(\"extract_cnc.csv\", bn_cnc)  # using bn as template for variables\n",
    "  learner.useGreedyHillClimbing()\n",
    "  print(learner.state()[\"Size\"][0])\n",
    "  extract_cnc_2 = learner.learnBN()\n",
    "\n",
    "  kl = gum.ExactBNdistance(bn_cnc, bn_cnc_2)\n",
    "  r = kl.compute()\n",
    "  l.append(log(r[\"klPQ\"]))\n",
    "\n",
    "  gnb.flow.add(gnb.getBNDiff(bn_cnc, bn_cnc_2, size=\"3!\"), f\"size={i}\")\n",
    "\n",
    "gnb.flow.display()\n",
    "plot(sizes, l)\n",
    "print(f\"final value computed : {l[-1]}\")"
   ]
  },
  {
   "cell_type": "code",
   "execution_count": null,
   "id": "Zt4NHeYYJHcK",
   "metadata": {
    "colab": {
     "base_uri": "https://localhost:8080/",
     "height": 1000
    },
    "id": "Zt4NHeYYJHcK",
    "outputId": "7d749bb9-cbbd-4688-9f88-bf153f449205"
   },
   "outputs": [],
   "source": [
    "gnb.flow.clear()\n",
    "nbr = 0\n",
    "l = []\n",
    "for i in sizes:\n",
    "  extract_cnc(i)\n",
    "  learner = gum.BNLearner(\"extract_cnc.csv\", bn_cnc)  # using bn as template for variables\n",
    "  learner.useLocalSearchWithTabuList()\n",
    "  print(learner.state()[\"Size\"][0])\n",
    "  extract_cnc_2 = learner.learnBN()\n",
    "\n",
    "  kl = gum.ExactBNdistance(bn_cnc, bn_cnc_2)\n",
    "  r = kl.compute()\n",
    "  l.append(log(r[\"klPQ\"]))\n",
    "\n",
    "  gnb.flow.add(gnb.getBNDiff(bn_cnc, bn_cnc_2, size=\"3!\"), f\"size={i}\")\n",
    "\n",
    "gnb.flow.display()\n",
    "plot(sizes, l)\n",
    "print(f\"final value computed : {l[-1]}\")"
   ]
  },
  {
   "cell_type": "code",
   "execution_count": null,
   "id": "cduaDJuwImEY",
   "metadata": {
    "id": "cduaDJuwImEY"
   },
   "outputs": [],
   "source": [
    "# Task 2.2b\n",
    "## vragen rond borstkanker data set"
   ]
  },
  {
   "cell_type": "code",
   "execution_count": null,
   "id": "4gny3ZufImHP",
   "metadata": {
    "id": "4gny3ZufImHP"
   },
   "outputs": [],
   "source": []
  },
  {
   "cell_type": "code",
   "execution_count": null,
   "id": "IG_dhi0HImKP",
   "metadata": {
    "id": "IG_dhi0HImKP"
   },
   "outputs": [],
   "source": []
  },
  {
   "cell_type": "code",
   "execution_count": null,
   "id": "XOWbbpm5ImNX",
   "metadata": {
    "id": "XOWbbpm5ImNX"
   },
   "outputs": [],
   "source": []
  },
  {
   "cell_type": "code",
   "execution_count": null,
   "id": "L890J0VsImQX",
   "metadata": {
    "id": "L890J0VsImQX"
   },
   "outputs": [],
   "source": []
  }
 ],
 "metadata": {
  "colab": {
   "gpuType": "T4",
   "provenance": []
  },
  "kernelspec": {
   "display_name": "Python (venv - My Jupyter)",
   "language": "python",
   "name": "venv-my-jupyter-kernel"
  },
  "language_info": {
   "codemirror_mode": {
    "name": "ipython",
    "version": 3
   },
   "file_extension": ".py",
   "mimetype": "text/x-python",
   "name": "python",
   "nbconvert_exporter": "python",
   "pygments_lexer": "ipython3",
   "version": "3.11.7"
  }
 },
 "nbformat": 4,
 "nbformat_minor": 5
}
